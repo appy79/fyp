{
 "cells": [
  {
   "attachments": {},
   "cell_type": "markdown",
   "metadata": {},
   "source": [
    "# Project on Policing using Predictive Models - By Amandeep Yadav"
   ]
  },
  {
   "attachments": {},
   "cell_type": "markdown",
   "metadata": {},
   "source": [
    "## Imports"
   ]
  },
  {
   "cell_type": "code",
   "execution_count": 541,
   "metadata": {},
   "outputs": [],
   "source": [
    "from sklearn.linear_model import LinearRegression\n",
    "from sklearn.ensemble import RandomForestRegressor\n",
    "from sklearn.neighbors import KNeighborsRegressor\n",
    "from sklearn.neural_network import MLPRegressor\n",
    "from sklearn.metrics import confusion_matrix\n",
    "from xgboost import XGBRegressor\n",
    "import geopandas\n",
    "from shapely.geometry import Point\n",
    "import numpy as np\n",
    "import pandas as pd\n",
    "import matplotlib.pyplot as plt\n",
    "import warnings\n",
    "\n",
    "warnings.filterwarnings('ignore')\n",
    "pd.options.mode.chained_assignment = None"
   ]
  },
  {
   "attachments": {},
   "cell_type": "markdown",
   "metadata": {},
   "source": [
    "## Data Preparation"
   ]
  },
  {
   "attachments": {},
   "cell_type": "markdown",
   "metadata": {},
   "source": [
    "### Read Dataset Files - 2018 will be train dataset and 2019 will be test dataset"
   ]
  },
  {
   "cell_type": "code",
   "execution_count": 542,
   "metadata": {},
   "outputs": [],
   "source": [
    "crime18 = pd.read_csv('2018.csv')\n",
    "crime19 = pd.read_csv('2019.csv')"
   ]
  },
  {
   "attachments": {},
   "cell_type": "markdown",
   "metadata": {},
   "source": [
    "### Add the zipcode column to 2018 data using coordinates from Dataset"
   ]
  },
  {
   "cell_type": "code",
   "execution_count": 543,
   "metadata": {},
   "outputs": [],
   "source": [
    "crime18['geometry'] = crime18.apply(lambda row: Point(row['Longitude'], row['Latitude']), axis=1)\n",
    "geo_police_data = geopandas.GeoDataFrame(crime18, geometry='geometry')\n",
    "geo_police_data.crs = {'init': 'epsg:4326'}\n",
    "sf = geopandas.read_file('zipcodes_geo.json')\n",
    "sf.crs = {'init': 'epsg:4326'}\n",
    "sf = sf.set_geometry('geometry')\n",
    "crime18 = geopandas.tools.sjoin(geo_police_data, sf, how='left')"
   ]
  },
  {
   "attachments": {},
   "cell_type": "markdown",
   "metadata": {},
   "source": [
    "### Refining DateTime for 2018"
   ]
  },
  {
   "cell_type": "code",
   "execution_count": 544,
   "metadata": {},
   "outputs": [
    {
     "data": {
      "text/html": [
       "<div>\n",
       "<style scoped>\n",
       "    .dataframe tbody tr th:only-of-type {\n",
       "        vertical-align: middle;\n",
       "    }\n",
       "\n",
       "    .dataframe tbody tr th {\n",
       "        vertical-align: top;\n",
       "    }\n",
       "\n",
       "    .dataframe thead th {\n",
       "        text-align: right;\n",
       "    }\n",
       "</style>\n",
       "<table border=\"1\" class=\"dataframe\">\n",
       "  <thead>\n",
       "    <tr style=\"text-align: right;\">\n",
       "      <th></th>\n",
       "      <th>Incident Date</th>\n",
       "      <th>Incident Day of Week</th>\n",
       "      <th>Incident Time</th>\n",
       "      <th>zip</th>\n",
       "      <th>Date</th>\n",
       "      <th>Hour</th>\n",
       "    </tr>\n",
       "  </thead>\n",
       "  <tbody>\n",
       "    <tr>\n",
       "      <th>0</th>\n",
       "      <td>01-01-2018</td>\n",
       "      <td>Monday</td>\n",
       "      <td>00:00</td>\n",
       "      <td>94132</td>\n",
       "      <td>2018-01-01</td>\n",
       "      <td>0</td>\n",
       "    </tr>\n",
       "    <tr>\n",
       "      <th>1</th>\n",
       "      <td>01-01-2018</td>\n",
       "      <td>Monday</td>\n",
       "      <td>00:00</td>\n",
       "      <td>94115</td>\n",
       "      <td>2018-01-01</td>\n",
       "      <td>0</td>\n",
       "    </tr>\n",
       "    <tr>\n",
       "      <th>2</th>\n",
       "      <td>01-01-2018</td>\n",
       "      <td>Monday</td>\n",
       "      <td>00:00</td>\n",
       "      <td>94158</td>\n",
       "      <td>2018-01-01</td>\n",
       "      <td>0</td>\n",
       "    </tr>\n",
       "    <tr>\n",
       "      <th>3</th>\n",
       "      <td>01-01-2018</td>\n",
       "      <td>Monday</td>\n",
       "      <td>00:00</td>\n",
       "      <td>94158</td>\n",
       "      <td>2018-01-01</td>\n",
       "      <td>0</td>\n",
       "    </tr>\n",
       "    <tr>\n",
       "      <th>4</th>\n",
       "      <td>01-01-2018</td>\n",
       "      <td>Monday</td>\n",
       "      <td>00:00</td>\n",
       "      <td>94131</td>\n",
       "      <td>2018-01-01</td>\n",
       "      <td>0</td>\n",
       "    </tr>\n",
       "  </tbody>\n",
       "</table>\n",
       "</div>"
      ],
      "text/plain": [
       "  Incident Date Incident Day of Week Incident Time    zip       Date  Hour\n",
       "0    01-01-2018               Monday         00:00  94132 2018-01-01     0\n",
       "1    01-01-2018               Monday         00:00  94115 2018-01-01     0\n",
       "2    01-01-2018               Monday         00:00  94158 2018-01-01     0\n",
       "3    01-01-2018               Monday         00:00  94158 2018-01-01     0\n",
       "4    01-01-2018               Monday         00:00  94131 2018-01-01     0"
      ]
     },
     "execution_count": 544,
     "metadata": {},
     "output_type": "execute_result"
    }
   ],
   "source": [
    "day_time_zip_18 = crime18[['Incident Date', 'Incident Day of Week', 'Incident Time', 'zip']]\n",
    "day_time_zip_18.loc[:, 'Date'] = pd.to_datetime(day_time_zip_18['Incident Date'], dayfirst=True)\n",
    "day_time_zip_18.loc[:, 'Hour'] = pd.to_datetime(day_time_zip_18['Incident Time'])\n",
    "day_time_zip_18.loc[:, 'Hour'] = day_time_zip_18.Hour.apply(lambda x: x.hour)\n",
    "day_time_zip_18.head()"
   ]
  },
  {
   "attachments": {},
   "cell_type": "markdown",
   "metadata": {},
   "source": [
    "### Slicing Dataset and obtaining necessary data from 2018"
   ]
  },
  {
   "cell_type": "code",
   "execution_count": 546,
   "metadata": {},
   "outputs": [
    {
     "data": {
      "text/html": [
       "<div>\n",
       "<style scoped>\n",
       "    .dataframe tbody tr th:only-of-type {\n",
       "        vertical-align: middle;\n",
       "    }\n",
       "\n",
       "    .dataframe tbody tr th {\n",
       "        vertical-align: top;\n",
       "    }\n",
       "\n",
       "    .dataframe thead th {\n",
       "        text-align: right;\n",
       "    }\n",
       "</style>\n",
       "<table border=\"1\" class=\"dataframe\">\n",
       "  <thead>\n",
       "    <tr style=\"text-align: right;\">\n",
       "      <th></th>\n",
       "      <th>Incident Day of Week</th>\n",
       "      <th>zip</th>\n",
       "      <th>Hour</th>\n",
       "      <th>Crimes</th>\n",
       "    </tr>\n",
       "  </thead>\n",
       "  <tbody>\n",
       "    <tr>\n",
       "      <th>3806</th>\n",
       "      <td>Wednesday</td>\n",
       "      <td>94103</td>\n",
       "      <td>13</td>\n",
       "      <td>233</td>\n",
       "    </tr>\n",
       "    <tr>\n",
       "      <th>3180</th>\n",
       "      <td>Tuesday</td>\n",
       "      <td>94103</td>\n",
       "      <td>12</td>\n",
       "      <td>211</td>\n",
       "    </tr>\n",
       "    <tr>\n",
       "      <th>3183</th>\n",
       "      <td>Tuesday</td>\n",
       "      <td>94103</td>\n",
       "      <td>15</td>\n",
       "      <td>209</td>\n",
       "    </tr>\n",
       "    <tr>\n",
       "      <th>3809</th>\n",
       "      <td>Wednesday</td>\n",
       "      <td>94103</td>\n",
       "      <td>16</td>\n",
       "      <td>204</td>\n",
       "    </tr>\n",
       "    <tr>\n",
       "      <th>3805</th>\n",
       "      <td>Wednesday</td>\n",
       "      <td>94103</td>\n",
       "      <td>12</td>\n",
       "      <td>202</td>\n",
       "    </tr>\n",
       "  </tbody>\n",
       "</table>\n",
       "</div>"
      ],
      "text/plain": [
       "     Incident Day of Week    zip  Hour  Crimes\n",
       "3806            Wednesday  94103    13     233\n",
       "3180              Tuesday  94103    12     211\n",
       "3183              Tuesday  94103    15     209\n",
       "3809            Wednesday  94103    16     204\n",
       "3805            Wednesday  94103    12     202"
      ]
     },
     "execution_count": 546,
     "metadata": {},
     "output_type": "execute_result"
    }
   ],
   "source": [
    "day_time_zip_18_final = day_time_zip_18[['Incident Day of Week', 'zip', 'Hour']]\n",
    "day_time_zip_18_final.loc[:, 'Crimes'] = 1\n",
    "hour_totals_18 = day_time_zip_18_final.groupby(['Incident Day of Week', 'zip', 'Hour']).sum().reset_index()\n",
    "hour_totals_18.sort_values('Crimes', ascending = False).head()"
   ]
  },
  {
   "attachments": {},
   "cell_type": "markdown",
   "metadata": {},
   "source": [
    "### Creating dummies"
   ]
  },
  {
   "cell_type": "code",
   "execution_count": 547,
   "metadata": {},
   "outputs": [],
   "source": [
    "hour_totals_18 = hour_totals_18[['Crimes', 'Hour', 'Incident Day of Week', 'zip']]\n",
    "totals_dummies_18 = pd.get_dummies(hour_totals_18)\n",
    "X_18 = totals_dummies_18.iloc[:, 1:]\n",
    "y_18 = totals_dummies_18.iloc[:, 0]"
   ]
  },
  {
   "attachments": {},
   "cell_type": "markdown",
   "metadata": {},
   "source": [
    "### Add the zipcode column to 2019 data using coordinates from Dataset"
   ]
  },
  {
   "cell_type": "code",
   "execution_count": 548,
   "metadata": {},
   "outputs": [],
   "source": [
    "crime19['geometry'] = crime19.apply(lambda row: Point(row['Longitude'], row['Latitude']), axis=1)\n",
    "geo_police_data = geopandas.GeoDataFrame(crime19, geometry='geometry')\n",
    "geo_police_data.crs = {'init': 'epsg:4326'}\n",
    "sf = geopandas.read_file('zipcodes_geo.json')\n",
    "sf.crs = {'init': 'epsg:4326'}\n",
    "sf = sf.set_geometry('geometry')\n",
    "crime19 = geopandas.tools.sjoin(geo_police_data, sf, how='left')"
   ]
  },
  {
   "attachments": {},
   "cell_type": "markdown",
   "metadata": {},
   "source": [
    "### Refining DateTime for 2019"
   ]
  },
  {
   "cell_type": "code",
   "execution_count": 549,
   "metadata": {},
   "outputs": [
    {
     "data": {
      "text/html": [
       "<div>\n",
       "<style scoped>\n",
       "    .dataframe tbody tr th:only-of-type {\n",
       "        vertical-align: middle;\n",
       "    }\n",
       "\n",
       "    .dataframe tbody tr th {\n",
       "        vertical-align: top;\n",
       "    }\n",
       "\n",
       "    .dataframe thead th {\n",
       "        text-align: right;\n",
       "    }\n",
       "</style>\n",
       "<table border=\"1\" class=\"dataframe\">\n",
       "  <thead>\n",
       "    <tr style=\"text-align: right;\">\n",
       "      <th></th>\n",
       "      <th>Incident Day of Week</th>\n",
       "      <th>zip</th>\n",
       "      <th>Hour</th>\n",
       "      <th>Crimes</th>\n",
       "    </tr>\n",
       "  </thead>\n",
       "  <tbody>\n",
       "    <tr>\n",
       "      <th>3164</th>\n",
       "      <td>Tuesday</td>\n",
       "      <td>94103</td>\n",
       "      <td>12</td>\n",
       "      <td>205</td>\n",
       "    </tr>\n",
       "    <tr>\n",
       "      <th>657</th>\n",
       "      <td>Monday</td>\n",
       "      <td>94103</td>\n",
       "      <td>12</td>\n",
       "      <td>204</td>\n",
       "    </tr>\n",
       "    <tr>\n",
       "      <th>3790</th>\n",
       "      <td>Wednesday</td>\n",
       "      <td>94103</td>\n",
       "      <td>13</td>\n",
       "      <td>198</td>\n",
       "    </tr>\n",
       "    <tr>\n",
       "      <th>3167</th>\n",
       "      <td>Tuesday</td>\n",
       "      <td>94103</td>\n",
       "      <td>15</td>\n",
       "      <td>194</td>\n",
       "    </tr>\n",
       "    <tr>\n",
       "      <th>3791</th>\n",
       "      <td>Wednesday</td>\n",
       "      <td>94103</td>\n",
       "      <td>14</td>\n",
       "      <td>189</td>\n",
       "    </tr>\n",
       "  </tbody>\n",
       "</table>\n",
       "</div>"
      ],
      "text/plain": [
       "     Incident Day of Week    zip  Hour  Crimes\n",
       "3164              Tuesday  94103    12     205\n",
       "657                Monday  94103    12     204\n",
       "3790            Wednesday  94103    13     198\n",
       "3167              Tuesday  94103    15     194\n",
       "3791            Wednesday  94103    14     189"
      ]
     },
     "execution_count": 549,
     "metadata": {},
     "output_type": "execute_result"
    }
   ],
   "source": [
    "day_time_zip_19 = crime19[['Incident Day of Week', 'Incident Time', 'zip']]\n",
    "day_time_zip_19['Hour'] = pd.to_datetime(day_time_zip_19['Incident Time'])\n",
    "day_time_zip_19['Hour'] = day_time_zip_19.Hour.apply(lambda x: x.hour)\n",
    "day_time_zip_19 = day_time_zip_19[['Incident Day of Week', 'zip', 'Hour']]\n",
    "day_time_zip_19['Crimes'] = 1\n",
    "hour_totals_19 = day_time_zip_19.groupby(['Incident Day of Week', 'zip', 'Hour']).count().reset_index()\n",
    "hour_totals_19.sort_values('Crimes', ascending = False).head()"
   ]
  },
  {
   "attachments": {},
   "cell_type": "markdown",
   "metadata": {},
   "source": [
    "### Slicing Dataset and obtaining necessary data from 2019"
   ]
  },
  {
   "cell_type": "code",
   "execution_count": 550,
   "metadata": {},
   "outputs": [],
   "source": [
    "hour_totals_19 = hour_totals_19[['Crimes', 'Hour', 'Incident Day of Week', 'zip']]\n",
    "totals_dummies_19 = pd.get_dummies(hour_totals_19)\n",
    "X_19 = totals_dummies_19.iloc[:, 1:]\n",
    "y_19 = totals_dummies_19.iloc[:, 0]"
   ]
  },
  {
   "attachments": {},
   "cell_type": "markdown",
   "metadata": {},
   "source": [
    "## Applying Models"
   ]
  },
  {
   "attachments": {},
   "cell_type": "markdown",
   "metadata": {},
   "source": [
    "### Linear Regression"
   ]
  },
  {
   "cell_type": "code",
   "execution_count": 551,
   "metadata": {},
   "outputs": [
    {
     "data": {
      "text/plain": [
       "0.7092275201549754"
      ]
     },
     "execution_count": 551,
     "metadata": {},
     "output_type": "execute_result"
    }
   ],
   "source": [
    "linear_regression = LinearRegression()\n",
    "linear_regression.fit(X_18,y_18)\n",
    "linear_regression.score(X_19, y_19)"
   ]
  },
  {
   "attachments": {},
   "cell_type": "markdown",
   "metadata": {},
   "source": [
    "### Random Forest"
   ]
  },
  {
   "cell_type": "code",
   "execution_count": 552,
   "metadata": {},
   "outputs": [
    {
     "data": {
      "text/plain": [
       "0.9028260307536421"
      ]
     },
     "execution_count": 552,
     "metadata": {},
     "output_type": "execute_result"
    }
   ],
   "source": [
    "rf = RandomForestRegressor()\n",
    "rf.fit(X_18, y_18)\n",
    "rf.score(X_19,y_19)"
   ]
  },
  {
   "attachments": {},
   "cell_type": "markdown",
   "metadata": {},
   "source": [
    "### K - Nearest Neighbours"
   ]
  },
  {
   "cell_type": "code",
   "execution_count": 553,
   "metadata": {},
   "outputs": [
    {
     "data": {
      "text/plain": [
       "0.7475815287895347"
      ]
     },
     "execution_count": 553,
     "metadata": {},
     "output_type": "execute_result"
    }
   ],
   "source": [
    "knn = KNeighborsRegressor()\n",
    "knn.fit(X_18, y_18)\n",
    "knn.score(X_19,y_19)"
   ]
  },
  {
   "attachments": {},
   "cell_type": "markdown",
   "metadata": {},
   "source": [
    "### XGBoost"
   ]
  },
  {
   "cell_type": "code",
   "execution_count": 554,
   "metadata": {},
   "outputs": [
    {
     "data": {
      "text/plain": [
       "0.9112321167164109"
      ]
     },
     "execution_count": 554,
     "metadata": {},
     "output_type": "execute_result"
    }
   ],
   "source": [
    "xgb = XGBRegressor()\n",
    "xgb.fit(X_18, y_18)\n",
    "xgb.score(X_19,y_19)"
   ]
  },
  {
   "attachments": {},
   "cell_type": "markdown",
   "metadata": {},
   "source": [
    "### Multilayer Perceptron"
   ]
  },
  {
   "cell_type": "code",
   "execution_count": 555,
   "metadata": {},
   "outputs": [
    {
     "data": {
      "text/plain": [
       "0.9124238227452515"
      ]
     },
     "execution_count": 555,
     "metadata": {},
     "output_type": "execute_result"
    }
   ],
   "source": [
    "mlp = MLPRegressor(hidden_layer_sizes = (100,100,100,100), random_state=444)\n",
    "mlp.fit(X_18,y_18)\n",
    "mlp.score(X_19, y_19)"
   ]
  },
  {
   "attachments": {},
   "cell_type": "markdown",
   "metadata": {},
   "source": [
    "## Refining Results"
   ]
  },
  {
   "attachments": {},
   "cell_type": "markdown",
   "metadata": {},
   "source": [
    "### Adding the predictions as columns to the data"
   ]
  },
  {
   "cell_type": "code",
   "execution_count": 556,
   "metadata": {},
   "outputs": [],
   "source": [
    "mlp_predicts = mlp.predict(X_18)\n",
    "xgb_predicts = xgb.predict(X_18)\n",
    "hour_totals_19['Predicted_mlp'] = pd.Series(mlp_predicts)\n",
    "hour_totals_19['Predicted_xgb'] = pd.Series(xgb_predicts)"
   ]
  },
  {
   "attachments": {},
   "cell_type": "markdown",
   "metadata": {},
   "source": [
    "### Divide by 365 to get per day basis"
   ]
  },
  {
   "cell_type": "code",
   "execution_count": 557,
   "metadata": {},
   "outputs": [],
   "source": [
    "hour_totals_19['Crimes'] = hour_totals_19['Crimes']/365\n",
    "hour_totals_19['Predicted_mlp'] = hour_totals_19['Predicted_mlp']/365\n",
    "hour_totals_19['Predicted_xgb'] = hour_totals_19['Predicted_xgb']/365"
   ]
  },
  {
   "attachments": {},
   "cell_type": "markdown",
   "metadata": {},
   "source": [
    "### Round off the values"
   ]
  },
  {
   "cell_type": "code",
   "execution_count": 558,
   "metadata": {},
   "outputs": [],
   "source": [
    "hour_totals_19 = np.round(hour_totals_19,2)"
   ]
  },
  {
   "attachments": {},
   "cell_type": "markdown",
   "metadata": {},
   "source": [
    "### Save the results to a file"
   ]
  },
  {
   "cell_type": "code",
   "execution_count": 559,
   "metadata": {},
   "outputs": [],
   "source": [
    "hour_totals_19.to_json(\"./new_crime_predictions.json\", orient='records', double_precision=2)"
   ]
  },
  {
   "attachments": {},
   "cell_type": "markdown",
   "metadata": {},
   "source": [
    "### Sanity Check using chloropleth"
   ]
  },
  {
   "cell_type": "code",
   "execution_count": 560,
   "metadata": {},
   "outputs": [
    {
     "data": {
      "text/plain": [
       "<Axes: >"
      ]
     },
     "execution_count": 560,
     "metadata": {},
     "output_type": "execute_result"
    },
    {
     "data": {
      "image/png": "[encoded data removed]",
      "text/plain": [
       "<Figure size 1300x1000 with 1 Axes>"
      ]
     },
     "metadata": {},
     "output_type": "display_data"
    }
   ],
   "source": [
    "chloropleth_data = hour_totals_19.merge(sf)\n",
    "chloropleth_data = geopandas.GeoDataFrame(chloropleth_data, geometry='geometry')\n",
    "chloropleth_data.crs = {'init': 'epsg:4326'}\n",
    "chloropleth_data.plot(column='Crimes', cmap='OrRd', figsize=(13,10))"
   ]
  },
  {
   "attachments": {},
   "cell_type": "markdown",
   "metadata": {},
   "source": [
    "## Analysis"
   ]
  },
  {
   "attachments": {},
   "cell_type": "markdown",
   "metadata": {},
   "source": [
    "### Check on Data"
   ]
  },
  {
   "cell_type": "code",
   "execution_count": 561,
   "metadata": {},
   "outputs": [
    {
     "data": {
      "text/html": [
       "<div>\n",
       "<style scoped>\n",
       "    .dataframe tbody tr th:only-of-type {\n",
       "        vertical-align: middle;\n",
       "    }\n",
       "\n",
       "    .dataframe tbody tr th {\n",
       "        vertical-align: top;\n",
       "    }\n",
       "\n",
       "    .dataframe thead th {\n",
       "        text-align: right;\n",
       "    }\n",
       "</style>\n",
       "<table border=\"1\" class=\"dataframe\">\n",
       "  <thead>\n",
       "    <tr style=\"text-align: right;\">\n",
       "      <th></th>\n",
       "      <th>Crimes</th>\n",
       "      <th>Hour</th>\n",
       "      <th>Incident Day of Week</th>\n",
       "      <th>zip</th>\n",
       "      <th>Predicted_mlp</th>\n",
       "      <th>Predicted_xgb</th>\n",
       "    </tr>\n",
       "  </thead>\n",
       "  <tbody>\n",
       "    <tr>\n",
       "      <th>0</th>\n",
       "      <td>0.26</td>\n",
       "      <td>0</td>\n",
       "      <td>Friday</td>\n",
       "      <td>94102</td>\n",
       "      <td>0.30</td>\n",
       "      <td>0.29</td>\n",
       "    </tr>\n",
       "    <tr>\n",
       "      <th>1</th>\n",
       "      <td>0.18</td>\n",
       "      <td>1</td>\n",
       "      <td>Friday</td>\n",
       "      <td>94102</td>\n",
       "      <td>0.09</td>\n",
       "      <td>0.12</td>\n",
       "    </tr>\n",
       "    <tr>\n",
       "      <th>2</th>\n",
       "      <td>0.14</td>\n",
       "      <td>2</td>\n",
       "      <td>Friday</td>\n",
       "      <td>94102</td>\n",
       "      <td>0.07</td>\n",
       "      <td>0.09</td>\n",
       "    </tr>\n",
       "    <tr>\n",
       "      <th>3</th>\n",
       "      <td>0.13</td>\n",
       "      <td>3</td>\n",
       "      <td>Friday</td>\n",
       "      <td>94102</td>\n",
       "      <td>0.06</td>\n",
       "      <td>0.07</td>\n",
       "    </tr>\n",
       "    <tr>\n",
       "      <th>4</th>\n",
       "      <td>0.06</td>\n",
       "      <td>4</td>\n",
       "      <td>Friday</td>\n",
       "      <td>94102</td>\n",
       "      <td>0.06</td>\n",
       "      <td>0.06</td>\n",
       "    </tr>\n",
       "  </tbody>\n",
       "</table>\n",
       "</div>"
      ],
      "text/plain": [
       "   Crimes  Hour Incident Day of Week    zip  Predicted_mlp  Predicted_xgb\n",
       "0    0.26     0               Friday  94102           0.30           0.29\n",
       "1    0.18     1               Friday  94102           0.09           0.12\n",
       "2    0.14     2               Friday  94102           0.07           0.09\n",
       "3    0.13     3               Friday  94102           0.06           0.07\n",
       "4    0.06     4               Friday  94102           0.06           0.06"
      ]
     },
     "execution_count": 561,
     "metadata": {},
     "output_type": "execute_result"
    }
   ],
   "source": [
    "hour_totals_19.head()"
   ]
  },
  {
   "attachments": {},
   "cell_type": "markdown",
   "metadata": {},
   "source": [
    "### Confusion Matrix"
   ]
  },
  {
   "cell_type": "code",
   "execution_count": 564,
   "metadata": {},
   "outputs": [
    {
     "name": "stdout",
     "output_type": "stream",
     "text": [
      "                     Predicted < threshold  Predicted >= threshold\n",
      "Actual < threshold                    3597                     242\n",
      "Actual >= threshold                    305                     236\n"
     ]
    }
   ],
   "source": [
    "threshold = 0.18\n",
    "\n",
    "crimes_actual = np.array([d[0] for d in hour_totals_19.iloc])\n",
    "crimes_predicted = np.array([d[4] for d in hour_totals_19.iloc])\n",
    "\n",
    "labels_actual = crimes_actual >= threshold\n",
    "labels_predicted = crimes_predicted >= threshold\n",
    "\n",
    "confusion = confusion_matrix(labels_actual, labels_predicted)\n",
    "confusion_df = pd.DataFrame(confusion, index=['Actual < threshold', 'Actual >= threshold'], columns=['Predicted < threshold', 'Predicted >= threshold'])\n",
    "print(confusion_df)"
   ]
  },
  {
   "attachments": {},
   "cell_type": "markdown",
   "metadata": {},
   "source": [
    "### Classification Report - Precision, Recall, F1-score"
   ]
  },
  {
   "cell_type": "code",
   "execution_count": 565,
   "metadata": {},
   "outputs": [
    {
     "name": "stdout",
     "output_type": "stream",
     "text": [
      "              precision    recall  f1-score   support\n",
      "\n",
      "       False       0.92      0.94      0.93      3839\n",
      "        True       0.49      0.44      0.46       541\n",
      "\n",
      "    accuracy                           0.88      4380\n",
      "   macro avg       0.71      0.69      0.70      4380\n",
      "weighted avg       0.87      0.88      0.87      4380\n",
      "\n"
     ]
    }
   ],
   "source": [
    "from sklearn.metrics import classification_report\n",
    "print(classification_report(labels_actual, labels_predicted))"
   ]
  },
  {
   "attachments": {},
   "cell_type": "markdown",
   "metadata": {},
   "source": [
    "### ROC Curve"
   ]
  },
  {
   "cell_type": "code",
   "execution_count": 566,
   "metadata": {},
   "outputs": [
    {
     "data": {
      "text/plain": [
       "Text(0, 0.5, 'True Positive Rate')"
      ]
     },
     "execution_count": 566,
     "metadata": {},
     "output_type": "execute_result"
    },
    {
     "data": {
      "image/png": "[encoded data removed]",
      "text/plain": [
       "<Figure size 640x480 with 1 Axes>"
      ]
     },
     "metadata": {},
     "output_type": "display_data"
    }
   ],
   "source": [
    "from sklearn.metrics import roc_curve\n",
    "\n",
    "fpr, tpr, thresholds = roc_curve(labels_actual, labels_predicted)\n",
    "plt.plot(fpr, tpr)\n",
    "plt.xlabel('False Positive Rate')\n",
    "plt.ylabel('True Positive Rate')"
   ]
  },
  {
   "attachments": {},
   "cell_type": "markdown",
   "metadata": {},
   "source": [
    "### Precision Recall Curve"
   ]
  },
  {
   "cell_type": "code",
   "execution_count": 567,
   "metadata": {},
   "outputs": [
    {
     "data": {
      "text/plain": [
       "Text(0, 0.5, 'Precision')"
      ]
     },
     "execution_count": 567,
     "metadata": {},
     "output_type": "execute_result"
    },
    {
     "data": {
      "image/png": "[encoded data removed]",
      "text/plain": [
       "<Figure size 640x480 with 1 Axes>"
      ]
     },
     "metadata": {},
     "output_type": "display_data"
    }
   ],
   "source": [
    "from sklearn.metrics import precision_recall_curve\n",
    "\n",
    "precision, recall, thresholds = precision_recall_curve(labels_actual, labels_predicted)\n",
    "plt.plot(recall, precision)\n",
    "plt.xlabel('Recall')\n",
    "plt.ylabel('Precision')"
   ]
  }
 ],
 "metadata": {
  "kernelspec": {
   "display_name": "Python 3",
   "language": "python",
   "name": "python3"
  },
  "language_info": {
   "codemirror_mode": {
    "name": "ipython",
    "version": 3
   },
   "file_extension": ".py",
   "mimetype": "text/x-python",
   "name": "python",
   "nbconvert_exporter": "python",
   "pygments_lexer": "ipython3",
   "version": "3.11.2"
  },
  "orig_nbformat": 4
 },
 "nbformat": 4,
 "nbformat_minor": 2
}
